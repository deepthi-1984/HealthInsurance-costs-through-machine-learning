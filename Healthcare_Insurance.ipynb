{
 "cells": [
  {
   "cell_type": "markdown",
   "id": "41225f3a",
   "metadata": {},
   "source": [
    "# Estimating Healthcare Insurance Expenses through Machine Learning.\n",
    "\n",
    "\n",
    "In the ever-evolving landscape of healthcare, where costs have soared due to the complexities of the modern healthcare system, the power of data has emerged as a beacon of hope. Healthcare analytics, much like a skilled navigator, holds the key to understanding and transforming the intricate web of health insurance costs. This is the mission of our project: to harness the transformative potential of data.\n",
    "Our journey begins with the realization that health insurance costs have reached unprecedented levels. This escalation is a result of numerous factors, including the rising cost of healthcare services and an array of individual characteristics. It's a multifaceted puzzle that calls for a comprehensive solution.\n",
    "\n",
    "We embark on this mission with the heart of a data virtuoso. Armed with the latest tools and techniques in healthcare analytics, we delve into a vast dataset, comprising variables such as age, sex, BMI, number of children, smoking habits, and region. Like a sculptor chiseling away at a block of marble, we meticulously dissect and interpret this data, applying both quantitative and qualitative methods to reveal the hidden insights and patterns within.\n",
    "At the core of our analysis lies the prediction of medical costs – a crucial indicator that unlocks a world of possibilities. This prediction empowers individuals, healthcare providers, and insurers to make informed decisions. It guides patients toward better planning, assists healthcare professionals in optimizing treatment plans, and helps insurance providers in setting fair premiums.\n",
    "Collaboration is at the heart of our endeavor. We work closely with experts in the field, building a bridge between the world of data and the world of healthcare. The insights we generate through data analysis become the guiding stars, steering our stakeholders towards better decision-making. With compelling data visualizations, we breathe life into these insights, making them accessible and actionable.\n",
    "\n",
    "Our work, much like that of the unsung hero in the healthcare analytics narrative, may often go unnoticed. Yet, its impact is profound. It contributes to the ongoing saga of healthcare excellence, making the journey towards affordable and efficient healthcare that much more extraordinary.\n",
    "In the realm of health insurance cost prediction, we are the unsung heroes, unlocking the extraordinary stories of financial well-being, efficient healthcare planning, and a more accessible healthcare system. Our dedication to data and our ability to transform it into actionable insights shape the path to a healthier, more financially secure future for all.\n"
   ]
  },
  {
   "cell_type": "markdown",
   "id": "3b32ed36",
   "metadata": {},
   "source": [
    "# Module 1\n",
    "Task 1: Analyzing Insurance Costs.\n",
    "\n",
    "In the quest to make healthcare accessible and affordable, we embark on the task of analyzing insurance costs using the data at our disposal. This endeavor is driven by a profound need to understand the factors that influence healthcare expenses, enabling us to provide individuals and healthcare stakeholders with the insights they need to make informed decisions. Our data, extracted from the \"insurance.csv\" file, holds the key to unraveling the mysteries of cost determinants such as age, gender, BMI, family size, smoking habits, and geographical location. As we load this dataset into our analysis, we prepare to unlock a world of possibilities. By exploring these data patterns and relationships, we strive to empower individuals with the knowledge required to plan for their financial health. Ultimately, our mission is to pave the way for more efficient healthcare planning, fairer insurance premiums, and a future where healthcare is within reach for everyone.\n"
   ]
  },
  {
   "cell_type": "code",
   "execution_count": 2,
   "id": "b82d753c",
   "metadata": {},
   "outputs": [
    {
     "data": {
      "text/html": [
       "<div>\n",
       "<style scoped>\n",
       "    .dataframe tbody tr th:only-of-type {\n",
       "        vertical-align: middle;\n",
       "    }\n",
       "\n",
       "    .dataframe tbody tr th {\n",
       "        vertical-align: top;\n",
       "    }\n",
       "\n",
       "    .dataframe thead th {\n",
       "        text-align: right;\n",
       "    }\n",
       "</style>\n",
       "<table border=\"1\" class=\"dataframe\">\n",
       "  <thead>\n",
       "    <tr style=\"text-align: right;\">\n",
       "      <th></th>\n",
       "      <th>age</th>\n",
       "      <th>sex</th>\n",
       "      <th>bmi</th>\n",
       "      <th>children</th>\n",
       "      <th>smoker</th>\n",
       "      <th>region</th>\n",
       "      <th>charges</th>\n",
       "    </tr>\n",
       "  </thead>\n",
       "  <tbody>\n",
       "    <tr>\n",
       "      <th>0</th>\n",
       "      <td>19</td>\n",
       "      <td>female</td>\n",
       "      <td>27.900</td>\n",
       "      <td>0</td>\n",
       "      <td>yes</td>\n",
       "      <td>southwest</td>\n",
       "      <td>16884.92400</td>\n",
       "    </tr>\n",
       "    <tr>\n",
       "      <th>1</th>\n",
       "      <td>18</td>\n",
       "      <td>male</td>\n",
       "      <td>33.770</td>\n",
       "      <td>1</td>\n",
       "      <td>no</td>\n",
       "      <td>southeast</td>\n",
       "      <td>1725.55230</td>\n",
       "    </tr>\n",
       "    <tr>\n",
       "      <th>2</th>\n",
       "      <td>28</td>\n",
       "      <td>male</td>\n",
       "      <td>33.000</td>\n",
       "      <td>3</td>\n",
       "      <td>no</td>\n",
       "      <td>southeast</td>\n",
       "      <td>4449.46200</td>\n",
       "    </tr>\n",
       "    <tr>\n",
       "      <th>3</th>\n",
       "      <td>33</td>\n",
       "      <td>male</td>\n",
       "      <td>22.705</td>\n",
       "      <td>0</td>\n",
       "      <td>no</td>\n",
       "      <td>northwest</td>\n",
       "      <td>21984.47061</td>\n",
       "    </tr>\n",
       "    <tr>\n",
       "      <th>4</th>\n",
       "      <td>32</td>\n",
       "      <td>male</td>\n",
       "      <td>28.880</td>\n",
       "      <td>0</td>\n",
       "      <td>no</td>\n",
       "      <td>northwest</td>\n",
       "      <td>3866.85520</td>\n",
       "    </tr>\n",
       "  </tbody>\n",
       "</table>\n",
       "</div>"
      ],
      "text/plain": [
       "   age     sex     bmi  children smoker     region      charges\n",
       "0   19  female  27.900         0    yes  southwest  16884.92400\n",
       "1   18    male  33.770         1     no  southeast   1725.55230\n",
       "2   28    male  33.000         3     no  southeast   4449.46200\n",
       "3   33    male  22.705         0     no  northwest  21984.47061\n",
       "4   32    male  28.880         0     no  northwest   3866.85520"
      ]
     },
     "execution_count": 2,
     "metadata": {},
     "output_type": "execute_result"
    }
   ],
   "source": [
    "import pandas as pd\n",
    "\n",
    "df= pd.read_csv('C:/Deepthi_Personal/DataAnalytics 2/Python/Health Insurance/insurance.csv')\n",
    "df.head()"
   ]
  },
  {
   "cell_type": "markdown",
   "id": "7f5ab03c",
   "metadata": {},
   "source": [
    "# Task 2: Unearthing Data Duplications.\n",
    "As we delve deeper into our mission to analyze insurance costs, we encounter a new challenge: data duplications. Our dedication to delivering accurate and reliable insights drives us to identify and address these duplications. By executing the code provided, we uncover the number of duplicate entries within our dataset. Removing these duplicates is paramount, as it ensures the integrity of our analysis, prevents skewed results, and allows us to maintain a high standard of data quality. This task may seem subtle, but its impact is profound, setting the stage for meaningful, actionable results. In our relentless pursuit of healthcare affordability, data quality is the cornerstone upon which we build a brighter and healthier future for all.\n"
   ]
  },
  {
   "cell_type": "code",
   "execution_count": 3,
   "id": "90309853",
   "metadata": {},
   "outputs": [
    {
     "name": "stdout",
     "output_type": "stream",
     "text": [
      "     age   sex    bmi  children smoker     region    charges\n",
      "195   19  male  30.59         0     no  northwest  1639.5631\n",
      "581   19  male  30.59         0     no  northwest  1639.5631\n"
     ]
    }
   ],
   "source": [
    "# finding duplicates\n",
    "\n",
    "duplicates=df[df.duplicated(keep=False)]\n",
    "print(duplicates)"
   ]
  },
  {
   "cell_type": "markdown",
   "id": "b3959a5f",
   "metadata": {},
   "source": [
    "# Task 3: Eliminating Duplications.\n",
    "In our ongoing quest to analyze insurance costs and promote healthcare affordability, we have encountered and successfully addressed a crucial task. By executing the code provided, we have eliminated data duplications within our dataset. This task is pivotal, as it ensures the accuracy and reliability of our analysis. With duplicate entries now removed, we can confidently proceed, knowing that our insights and predictions will be based on clean, high-quality data. Every step we take in refining our dataset brings us closer to our goal of providing individuals and healthcare stakeholders with precise and actionable information for better healthcare planning and decision-making. The elimination of duplications is yet another stride toward a future where healthcare is both accessible and affordable for all.\n"
   ]
  },
  {
   "cell_type": "code",
   "execution_count": 4,
   "id": "2ba40cc8",
   "metadata": {},
   "outputs": [],
   "source": [
    "df.drop_duplicates(inplace=True)"
   ]
  },
  {
   "cell_type": "markdown",
   "id": "a3c76550",
   "metadata": {},
   "source": [
    "# Task 4: Shoring Up Data Gaps.\n",
    "In our relentless pursuit of accurate and insightful healthcare analytics, we confront another critical task – identifying and handling missing data. By executing the code provided, we assess the extent of missing values within our dataset. It's a crucial endeavor because complete data is the bedrock of reliable analysis. With a clear understanding of where data gaps exist, we can make informed decisions on how to handle them, whether through imputation or exclusion. Our commitment to data completeness not only enhances the quality of our analysis but also empowers us to provide individuals and healthcare stakeholders with a comprehensive view of the factors influencing insurance costs. Every null value addressed is a step closer to our vision of a healthcare landscape where no one is left in the dark, and everyone can plan for a healthier and more financially secure future.\n"
   ]
  },
  {
   "cell_type": "code",
   "execution_count": 5,
   "id": "497ccd73",
   "metadata": {},
   "outputs": [
    {
     "name": "stdout",
     "output_type": "stream",
     "text": [
      "age         0\n",
      "sex         0\n",
      "bmi         0\n",
      "children    0\n",
      "smoker      0\n",
      "region      0\n",
      "charges     0\n",
      "dtype: int64\n"
     ]
    }
   ],
   "source": [
    "null_values=df.isnull().sum()\n",
    "print(null_values)"
   ]
  },
  {
   "cell_type": "markdown",
   "id": "433846ac",
   "metadata": {},
   "source": [
    "# Module 2"
   ]
  },
  {
   "cell_type": "markdown",
   "id": "4ad26542",
   "metadata": {},
   "source": [
    "# Task 1: Empowering Analysis with Encoded Insights.\n",
    "Our journey to decipher the intricacies of healthcare insurance costs continues with a pivotal task: encoding categorical features. By employing the LabelEncoder from the sklearn library, we convert non-numeric attributes such as 'sex' and 'smoker' into numerical values. This transformation is essential as it enables us to feed these features into our analytical models, providing a more comprehensive understanding of the factors influencing insurance costs. This coding task bridges the gap between data and actionable insights, setting the stage for robust analysis. With each attribute transformed, we move closer to uncovering the hidden relationships within our data and facilitating more precise predictions. Our commitment to encoding is a testament to our dedication to providing individuals and healthcare stakeholders with the tools they need to make informed decisions about their financial health and healthcare planning.\n"
   ]
  },
  {
   "cell_type": "code",
   "execution_count": 6,
   "id": "6489401d",
   "metadata": {},
   "outputs": [
    {
     "name": "stdout",
     "output_type": "stream",
     "text": [
      "      age  sex     bmi  children  smoker     region      charges\n",
      "0      19    0  27.900         0       1  southwest  16884.92400\n",
      "1      18    1  33.770         1       0  southeast   1725.55230\n",
      "2      28    1  33.000         3       0  southeast   4449.46200\n",
      "3      33    1  22.705         0       0  northwest  21984.47061\n",
      "4      32    1  28.880         0       0  northwest   3866.85520\n",
      "...   ...  ...     ...       ...     ...        ...          ...\n",
      "1333   50    1  30.970         3       0  northwest  10600.54830\n",
      "1334   18    0  31.920         0       0  northeast   2205.98080\n",
      "1335   18    0  36.850         0       0  southeast   1629.83350\n",
      "1336   21    0  25.800         0       0  southwest   2007.94500\n",
      "1337   61    0  29.070         0       1  northwest  29141.36030\n",
      "\n",
      "[1337 rows x 7 columns]\n"
     ]
    }
   ],
   "source": [
    "from sklearn.preprocessing import LabelEncoder\n",
    "\n",
    "lab_encode=LabelEncoder()\n",
    "for column in ['sex','smoker']:\n",
    "    df[column]=lab_encode.fit_transform(df[column])\n",
    "\n",
    "print(df)    "
   ]
  },
  {
   "cell_type": "markdown",
   "id": "6bb854df",
   "metadata": {},
   "source": [
    "# Task 2: Unleashing the Power of One-Hot Encoding.\n",
    "As we delve deeper into our quest to unravel the mysteries of healthcare insurance costs, we face a new challenge: encoding the 'region' attribute using one-hot encoding. This task is essential to translate geographical regions into numerical representations, allowing us to incorporate this valuable information into our analysis. By executing the code provided, we create a series of binary columns, each representing a different region. These columns serve as vital indicators, enabling us to discern the impact of location on insurance costs. Every region reveals unique insights, and this one-hot encoding process equips us with the means to uncover these intricate patterns. Our commitment to one-hot encoding is yet another testament to our dedication to providing individuals and healthcare stakeholders with a more comprehensive view of the factors influencing healthcare costs, empowering them to make informed decisions.\n"
   ]
  },
  {
   "cell_type": "code",
   "execution_count": 7,
   "id": "ae739dec",
   "metadata": {},
   "outputs": [],
   "source": [
    "# Performing one-hot encoding on the 'region' column\n",
    "\n",
    "one_hot_encode=pd.get_dummies(df['region'])\n",
    "\n"
   ]
  },
  {
   "cell_type": "markdown",
   "id": "4d528451",
   "metadata": {},
   "source": [
    "# Task 3: Incorporating Regional Factors.\n",
    "In our relentless pursuit of comprehensive healthcare analysis, we have reached a critical juncture – the integration of regional data into our dataset. By concatenating the one-hot encoded 'region' columns, we expand our dataset's horizons. This task is crucial as it allows us to incorporate the influence of geographical regions on insurance costs into our analysis. With this enhancement, we are better equipped to unearth region-specific trends, offering a more detailed and nuanced perspective on cost determinants. Our commitment to this integration extends our mission to empower individuals and healthcare stakeholders with the tools they need to navigate the complexities of healthcare planning and financial decision-making. With each column added, we take a significant stride toward achieving our vision of a healthcare landscape where insights are both comprehensive and actionable.\n"
   ]
  },
  {
   "cell_type": "code",
   "execution_count": 8,
   "id": "cd6cfe54",
   "metadata": {},
   "outputs": [
    {
     "name": "stdout",
     "output_type": "stream",
     "text": [
      "      age  sex     bmi  children  smoker     region      charges  northeast  \\\n",
      "0      19    0  27.900         0       1  southwest  16884.92400          0   \n",
      "1      18    1  33.770         1       0  southeast   1725.55230          0   \n",
      "2      28    1  33.000         3       0  southeast   4449.46200          0   \n",
      "3      33    1  22.705         0       0  northwest  21984.47061          0   \n",
      "4      32    1  28.880         0       0  northwest   3866.85520          0   \n",
      "...   ...  ...     ...       ...     ...        ...          ...        ...   \n",
      "1333   50    1  30.970         3       0  northwest  10600.54830          0   \n",
      "1334   18    0  31.920         0       0  northeast   2205.98080          1   \n",
      "1335   18    0  36.850         0       0  southeast   1629.83350          0   \n",
      "1336   21    0  25.800         0       0  southwest   2007.94500          0   \n",
      "1337   61    0  29.070         0       1  northwest  29141.36030          0   \n",
      "\n",
      "      northwest  southeast  southwest  \n",
      "0             0          0          1  \n",
      "1             0          1          0  \n",
      "2             0          1          0  \n",
      "3             1          0          0  \n",
      "4             1          0          0  \n",
      "...         ...        ...        ...  \n",
      "1333          1          0          0  \n",
      "1334          0          0          0  \n",
      "1335          0          1          0  \n",
      "1336          0          0          1  \n",
      "1337          1          0          0  \n",
      "\n",
      "[1337 rows x 11 columns]\n"
     ]
    }
   ],
   "source": [
    "# Combining the one-hot encoded columns with the original DataFrame\n",
    "\n",
    "df=pd.concat([df,one_hot_encode],axis=1)\n",
    "print(df)"
   ]
  },
  {
   "cell_type": "markdown",
   "id": "cf82dfa8",
   "metadata": {},
   "source": [
    "# Task 4: Removing Redundancy.\n",
    "In our ongoing journey to unlock the secrets of healthcare insurance costs, we reach a crucial juncture – the removal of the 'region' column from our dataset. This task is vital as it streamlines our data, eliminating redundancy while preserving the valuable regional insights we've gained through one-hot encoding. By executing this step, we enhance the efficiency of our analysis, making it easier to identify the true determinants of insurance costs. Our commitment to this data refinement aligns with our mission to provide individuals and healthcare stakeholders with precise and actionable insights for healthcare planning and financial decision-making. With each column removed, we advance further toward our vision of a healthcare landscape where data is clear, comprehensive, and focused on improving the health and financial well-being of all.\n"
   ]
  },
  {
   "cell_type": "code",
   "execution_count": 10,
   "id": "4e5ea27e",
   "metadata": {},
   "outputs": [
    {
     "name": "stdout",
     "output_type": "stream",
     "text": [
      "      age  sex     bmi  children  smoker      charges  northeast  northwest  \\\n",
      "0      19    0  27.900         0       1  16884.92400          0          0   \n",
      "1      18    1  33.770         1       0   1725.55230          0          0   \n",
      "2      28    1  33.000         3       0   4449.46200          0          0   \n",
      "3      33    1  22.705         0       0  21984.47061          0          1   \n",
      "4      32    1  28.880         0       0   3866.85520          0          1   \n",
      "...   ...  ...     ...       ...     ...          ...        ...        ...   \n",
      "1333   50    1  30.970         3       0  10600.54830          0          1   \n",
      "1334   18    0  31.920         0       0   2205.98080          1          0   \n",
      "1335   18    0  36.850         0       0   1629.83350          0          0   \n",
      "1336   21    0  25.800         0       0   2007.94500          0          0   \n",
      "1337   61    0  29.070         0       1  29141.36030          0          1   \n",
      "\n",
      "      southeast  southwest  \n",
      "0             0          1  \n",
      "1             1          0  \n",
      "2             1          0  \n",
      "3             0          0  \n",
      "4             0          0  \n",
      "...         ...        ...  \n",
      "1333          0          0  \n",
      "1334          0          0  \n",
      "1335          1          0  \n",
      "1336          0          1  \n",
      "1337          0          0  \n",
      "\n",
      "[1337 rows x 10 columns]\n"
     ]
    }
   ],
   "source": [
    "df1=pd.DataFrame(df)\n",
    "\n",
    "df1.drop('region',axis=1,inplace=True)\n",
    "print(df1)"
   ]
  },
  {
   "cell_type": "markdown",
   "id": "dab6a1a6",
   "metadata": {},
   "source": [
    "# Module 3"
   ]
  },
  {
   "cell_type": "markdown",
   "id": "6c9a1630",
   "metadata": {},
   "source": [
    "# Task 1: Setting the Stage for Precise Predictions.\n",
    "\n",
    "In our journey to gain a deep understanding of healthcare insurance costs, we have reached a pivotal moment – the division of our dataset into training and test sets. This task is essential as it prepares us for accurate predictions by creating distinct subsets for model training and evaluation. By executing the code provided, we allocate 80% of the data to the training set and 20% to the test set, ensuring a robust and reliable analysis. Our commitment to this data split reflects our dedication to providing individuals and healthcare stakeholders with precise predictions for healthcare planning and financial decision-making. With each split, we move closer to achieving our vision of a healthcare landscape where insights are not just comprehensive but also highly accurate, ultimately promoting financial and health well-being for all.\n"
   ]
  },
  {
   "cell_type": "code",
   "execution_count": 11,
   "id": "e4cf2a01",
   "metadata": {},
   "outputs": [],
   "source": [
    "from sklearn.model_selection import train_test_split\n",
    "\n",
    "#Creating X dataframe without charges column from df1 dataframe\n",
    "\n",
    "X=df1.drop('charges',axis=1)\n",
    "\n",
    "#Creating y series with only charges column from df1 dataframe\n",
    "\n",
    "y=df1['charges']\n",
    "\n",
    "#Using train_test_split to split the dataset into training and testing sets\n",
    "\n",
    "X_train,X_test,y_train,y_test = train_test_split(X,y,test_size=0.2,random_state=42)\n",
    "\n",
    "# X_train: Training features\n",
    "# X_test: Testing features\n",
    "# y_train: Training values\n",
    "# y_test: Testing values\n",
    "\n"
   ]
  },
  {
   "cell_type": "markdown",
   "id": "8d3ca2d4",
   "metadata": {},
   "source": [
    "# Task 2: Evaluating Model Performance.\n",
    "In our pursuit of uncovering the intricacies of healthcare insurance costs, we shift our focus to evaluating the performance of a Random Forest Regression model. This task is essential in understanding how well our model can predict insurance charges, providing a crucial tool for making informed financial and healthcare decisions. By employing cross-validation with 10 folds, we assess the model's performance and calculate the root mean squared error (RMSE). The RMSE serves as a metric of the model's predictive accuracy, helping us determine how well it can make cost predictions. Our commitment to this performance evaluation aligns with our mission to empower individuals and healthcare stakeholders with precise insights for healthcare planning and financial decision-making. With each performance metric calculated, we approach our goal of a healthcare landscape where predictions are not just comprehensive but also highly accurate, paving the way for better financial and health well-being for all.\n"
   ]
  },
  {
   "cell_type": "code",
   "execution_count": 14,
   "id": "60fc9b13",
   "metadata": {},
   "outputs": [
    {
     "name": "stdout",
     "output_type": "stream",
     "text": [
      "Mean RMSE: 4960.71\n",
      "Standard deviation RMSE: 586.88\n"
     ]
    }
   ],
   "source": [
    "import numpy as np\n",
    "from sklearn.model_selection import cross_val_score\n",
    "from sklearn.ensemble import RandomForestRegressor\n",
    "\n",
    "# Creating and instance of the RandomForestRegressor with the specified configurations\n",
    "\n",
    "rand_forest_model=RandomForestRegressor(n_estimators=50,n_jobs=2,random_state=42)\n",
    "\n",
    "# Use cross_val_score to evaluate the performance of the random forest model\n",
    "# 'scoring' parameter is set to \"neg_mean_squared_error\" to get negative mean squared error scores\n",
    "# 'cv=10' specifies 10-fold cross-validation\n",
    "neg_mse_scores= cross_val_score(rand_forest_model,X_train,y_train,scoring=\"neg_mean_squared_error\",cv=10)\n",
    "\n",
    "# Calculating RMSE values from the negative MSE scores\n",
    "rmse_scores=np.sqrt(-neg_mse_scores)\n",
    "\n",
    "# Calculating mean and standard deviation of RMSE score\n",
    "\n",
    "mean_performance=round(np.mean(rmse_scores),2)\n",
    "std_performance=round(np.std(rmse_scores),2)\n",
    "\n",
    "#Printing the mean and standard deviation\n",
    "\n",
    "print(f\"Mean RMSE: {mean_performance}\")\n",
    "print(f\"Standard deviation RMSE: {std_performance}\")"
   ]
  },
  {
   "cell_type": "markdown",
   "id": "3e0dc16f",
   "metadata": {},
   "source": [
    "# Task 3: Forecasting Healthcare Costs.\n",
    "In our pursuit of accurate healthcare insurance cost predictions, we've reached the culmination of our journey. With a Random Forest Regression model in place, we've trained it on the training dataset, equipping it with the knowledge to predict healthcare charges. By executing this model, we make predictions using the test dataset, offering us a glimpse of how well our predictions align with actual healthcare costs. The rounded predictions are presented to ensure clarity, and they provide a direct comparison with the real costs. This final step brings us closer to our mission of providing individuals and healthcare stakeholders with precise and actionable insights for informed healthcare planning and financial decision-making. With these comparisons in hand, we enter a new era where predictions meet reality, offering a path to more accurate healthcare cost planning and ultimately promoting better financial and health well-being for all.\n"
   ]
  },
  {
   "cell_type": "code",
   "execution_count": 16,
   "id": "cdc85f56",
   "metadata": {},
   "outputs": [
    {
     "name": "stdout",
     "output_type": "stream",
     "text": [
      "   Actual Charges  Predicted Charges\n",
      "0         8688.86           10334.48\n",
      "1         5708.87            6651.49\n",
      "2        11436.74           12295.40\n",
      "3        38746.36           42608.01\n",
      "4         4463.21            6853.03\n",
      "5         9304.70            9366.65\n",
      "6        38511.63           39526.20\n",
      "7         2150.47            2194.72\n",
      "8         7345.73            8516.75\n",
      "9        10264.44           10708.99\n"
     ]
    }
   ],
   "source": [
    "# Fit the model\n",
    "\n",
    "rand_forest_model.fit(X_train,y_train)\n",
    "\n",
    "# Making the predictions on the test set\n",
    "\n",
    "predictions=rand_forest_model.predict(X_test)\n",
    "\n",
    "# Rounding the predictions int two decimal places\n",
    "\n",
    "rounded_predictions=np.round(predictions,2)\n",
    "\n",
    "# Rounding the actual charges in y_test to tow decimal places\n",
    "\n",
    "rounded_y_test= np.round(y_test,2)\n",
    "\n",
    "# Creating a dataframe to compare\n",
    "\n",
    "compare= pd.DataFrame({'Actual Charges': rounded_y_test.values[:10], 'Predicted Charges': rounded_predictions[:10]})\n",
    "print(compare)\n",
    "\n"
   ]
  },
  {
   "cell_type": "code",
   "execution_count": null,
   "id": "5a6dc3e2",
   "metadata": {},
   "outputs": [],
   "source": []
  }
 ],
 "metadata": {
  "kernelspec": {
   "display_name": "Python 3 (ipykernel)",
   "language": "python",
   "name": "python3"
  },
  "language_info": {
   "codemirror_mode": {
    "name": "ipython",
    "version": 3
   },
   "file_extension": ".py",
   "mimetype": "text/x-python",
   "name": "python",
   "nbconvert_exporter": "python",
   "pygments_lexer": "ipython3",
   "version": "3.11.1"
  }
 },
 "nbformat": 4,
 "nbformat_minor": 5
}
